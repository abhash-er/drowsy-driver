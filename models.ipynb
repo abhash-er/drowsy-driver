{
 "cells": [
  {
   "cell_type": "code",
   "execution_count": 19,
   "metadata": {},
   "outputs": [],
   "source": [
    "from keras.models import Sequential\n",
    "from keras.layers import Dense,Conv2D,Dropout,MaxPooling2D,Flatten\n",
    "from keras.preprocessing.image import ImageDataGenerator\n",
    "import tensorflow as tf"
   ]
  },
  {
   "cell_type": "code",
   "execution_count": 2,
   "metadata": {},
   "outputs": [],
   "source": [
    "train_gen = ImageDataGenerator(rescale=1/255.,horizontal_flip = True)\n",
    "validation_gen = ImageDataGenerator(rescale = 1/255.,horizontal_flip = True)\n",
    "test_gen = ImageDataGenerator(rescale = 1/255.,horizontal_flip = True)"
   ]
  },
  {
   "cell_type": "code",
   "execution_count": 3,
   "metadata": {},
   "outputs": [
    {
     "name": "stdout",
     "output_type": "stream",
     "text": [
      "Found 1742 images belonging to 2 classes.\n",
      "Found 486 images belonging to 2 classes.\n",
      "Found 195 images belonging to 2 classes.\n"
     ]
    }
   ],
   "source": [
    "train_images = train_gen.flow_from_directory(\n",
    "                'eyes/training',\n",
    "                target_size = (100,100),\n",
    "                batch_size = 32)\n",
    "\n",
    "validation_images = train_gen.flow_from_directory(\n",
    "                'eyes/validation',\n",
    "                target_size = (100,100),\n",
    "                batch_size = 32)\n",
    "\n",
    "test_images = test_gen.flow_from_directory(\n",
    "                'eyes/testing',\n",
    "                target_size = (100,100),\n",
    "                batch_size = 32)"
   ]
  },
  {
   "cell_type": "code",
   "execution_count": 4,
   "metadata": {},
   "outputs": [
    {
     "name": "stdout",
     "output_type": "stream",
     "text": [
      "{'ClosedFace': 0, 'OpenFace': 1}\n",
      "{'ClosedFace': 0, 'OpenFace': 1}\n",
      "{'ClosedFace': 0, 'OpenFace': 1}\n"
     ]
    }
   ],
   "source": [
    "print(train_images.class_indices)\n",
    "print(test_images.class_indices)\n",
    "print(validation_images.class_indices)"
   ]
  },
  {
   "cell_type": "code",
   "execution_count": 5,
   "metadata": {},
   "outputs": [],
   "source": [
    "model = Sequential()\n",
    "model.add(Conv2D(16,(3,3),input_shape=(100,100,3),activation=\"relu\"))\n",
    "model.add(MaxPooling2D((2,2)))\n",
    "model.add(Conv2D(32,(3,3),activation=\"relu\"))\n",
    "model.add(MaxPooling2D((2,2)))\n",
    "model.add(Dropout(.2))\n",
    "model.add(Conv2D(128,(3,3),activation=\"relu\"))\n",
    "model.add(MaxPooling2D((2,2)))\n",
    "model.add(Conv2D(512,(3,3),activation=\"relu\"))\n",
    "model.add(MaxPooling2D((2,2)))\n",
    "model.add(Flatten())\n",
    "model.add(Dense(1000,activation=\"relu\"))\n",
    "model.add(Dropout(.2))\n",
    "model.add(Dense(128,activation=\"relu\"))\n",
    "model.add(Dropout(.2))\n",
    "model.add(Dense(32,activation=\"relu\"))\n",
    "model.add(Dropout(.2))\n",
    "model.add(Dense(2,activation=\"sigmoid\"))"
   ]
  },
  {
   "cell_type": "code",
   "execution_count": 6,
   "metadata": {},
   "outputs": [
    {
     "name": "stdout",
     "output_type": "stream",
     "text": [
      "Model: \"sequential_1\"\n",
      "_________________________________________________________________\n",
      "Layer (type)                 Output Shape              Param #   \n",
      "=================================================================\n",
      "conv2d_1 (Conv2D)            (None, 98, 98, 16)        448       \n",
      "_________________________________________________________________\n",
      "max_pooling2d_1 (MaxPooling2 (None, 49, 49, 16)        0         \n",
      "_________________________________________________________________\n",
      "conv2d_2 (Conv2D)            (None, 47, 47, 32)        4640      \n",
      "_________________________________________________________________\n",
      "max_pooling2d_2 (MaxPooling2 (None, 23, 23, 32)        0         \n",
      "_________________________________________________________________\n",
      "dropout_1 (Dropout)          (None, 23, 23, 32)        0         \n",
      "_________________________________________________________________\n",
      "conv2d_3 (Conv2D)            (None, 21, 21, 128)       36992     \n",
      "_________________________________________________________________\n",
      "max_pooling2d_3 (MaxPooling2 (None, 10, 10, 128)       0         \n",
      "_________________________________________________________________\n",
      "conv2d_4 (Conv2D)            (None, 8, 8, 512)         590336    \n",
      "_________________________________________________________________\n",
      "max_pooling2d_4 (MaxPooling2 (None, 4, 4, 512)         0         \n",
      "_________________________________________________________________\n",
      "flatten_1 (Flatten)          (None, 8192)              0         \n",
      "_________________________________________________________________\n",
      "dense_1 (Dense)              (None, 1000)              8193000   \n",
      "_________________________________________________________________\n",
      "dropout_2 (Dropout)          (None, 1000)              0         \n",
      "_________________________________________________________________\n",
      "dense_2 (Dense)              (None, 128)               128128    \n",
      "_________________________________________________________________\n",
      "dropout_3 (Dropout)          (None, 128)               0         \n",
      "_________________________________________________________________\n",
      "dense_3 (Dense)              (None, 32)                4128      \n",
      "_________________________________________________________________\n",
      "dropout_4 (Dropout)          (None, 32)                0         \n",
      "_________________________________________________________________\n",
      "dense_4 (Dense)              (None, 2)                 66        \n",
      "=================================================================\n",
      "Total params: 8,957,738\n",
      "Trainable params: 8,957,738\n",
      "Non-trainable params: 0\n",
      "_________________________________________________________________\n"
     ]
    }
   ],
   "source": [
    "model.summary()"
   ]
  },
  {
   "cell_type": "code",
   "execution_count": 7,
   "metadata": {},
   "outputs": [],
   "source": [
    "model.compile(optimizer=\"adam\",loss=\"binary_crossentropy\",metrics=[\"accuracy\"])"
   ]
  },
  {
   "cell_type": "code",
   "execution_count": 8,
   "metadata": {},
   "outputs": [
    {
     "name": "stdout",
     "output_type": "stream",
     "text": [
      "Epoch 1/30\n",
      "64/64 [==============================] - 5s 71ms/step - loss: 0.6881 - accuracy: 0.5389 - val_loss: 0.6116 - val_accuracy: 0.6479\n",
      "Epoch 2/30\n",
      "64/64 [==============================] - 3s 44ms/step - loss: 0.6748 - accuracy: 0.5660 - val_loss: 0.6879 - val_accuracy: 0.5264\n",
      "Epoch 3/30\n",
      "64/64 [==============================] - 3s 42ms/step - loss: 0.6689 - accuracy: 0.5823 - val_loss: 0.4869 - val_accuracy: 0.6905\n",
      "Epoch 4/30\n",
      "64/64 [==============================] - 3s 43ms/step - loss: 0.6542 - accuracy: 0.6094 - val_loss: 0.6278 - val_accuracy: 0.6509\n",
      "Epoch 5/30\n",
      "64/64 [==============================] - 3s 43ms/step - loss: 0.6103 - accuracy: 0.6747 - val_loss: 0.5297 - val_accuracy: 0.7247\n",
      "Epoch 6/30\n",
      "64/64 [==============================] - 3s 43ms/step - loss: 0.4977 - accuracy: 0.7601 - val_loss: 0.3656 - val_accuracy: 0.7313\n",
      "Epoch 7/30\n",
      "64/64 [==============================] - 3s 45ms/step - loss: 0.4290 - accuracy: 0.8096 - val_loss: 0.2581 - val_accuracy: 0.8987\n",
      "Epoch 8/30\n",
      "64/64 [==============================] - 3s 42ms/step - loss: 0.3403 - accuracy: 0.8451 - val_loss: 0.3441 - val_accuracy: 0.8667\n",
      "Epoch 9/30\n",
      "64/64 [==============================] - 3s 42ms/step - loss: 0.2808 - accuracy: 0.8785 - val_loss: 0.3325 - val_accuracy: 0.9086\n",
      "Epoch 10/30\n",
      "64/64 [==============================] - 3s 43ms/step - loss: 0.2467 - accuracy: 0.8987 - val_loss: 0.4497 - val_accuracy: 0.9229\n",
      "Epoch 11/30\n",
      "64/64 [==============================] - 3s 42ms/step - loss: 0.2385 - accuracy: 0.9058 - val_loss: 0.2991 - val_accuracy: 0.8987\n",
      "Epoch 12/30\n",
      "64/64 [==============================] - 3s 41ms/step - loss: 0.1839 - accuracy: 0.9342 - val_loss: 0.1948 - val_accuracy: 0.9053\n",
      "Epoch 13/30\n",
      "64/64 [==============================] - 3s 42ms/step - loss: 0.1631 - accuracy: 0.9426 - val_loss: 0.1872 - val_accuracy: 0.9626\n",
      "Epoch 14/30\n",
      "64/64 [==============================] - 3s 40ms/step - loss: 0.1160 - accuracy: 0.9520 - val_loss: 0.2556 - val_accuracy: 0.9427\n",
      "Epoch 15/30\n",
      "64/64 [==============================] - 3s 40ms/step - loss: 0.1253 - accuracy: 0.9549 - val_loss: 0.3498 - val_accuracy: 0.9339\n",
      "Epoch 16/30\n",
      "64/64 [==============================] - 3s 40ms/step - loss: 0.1095 - accuracy: 0.9605 - val_loss: 9.9144e-04 - val_accuracy: 0.9251\n",
      "Epoch 17/30\n",
      "64/64 [==============================] - 3s 40ms/step - loss: 0.0848 - accuracy: 0.9665 - val_loss: 0.0628 - val_accuracy: 0.9417\n",
      "Epoch 18/30\n",
      "64/64 [==============================] - 3s 44ms/step - loss: 0.0988 - accuracy: 0.9640 - val_loss: 0.0891 - val_accuracy: 0.9604\n",
      "Epoch 19/30\n",
      "64/64 [==============================] - 3s 43ms/step - loss: 0.0897 - accuracy: 0.9697 - val_loss: 0.1819 - val_accuracy: 0.9604\n",
      "Epoch 20/30\n",
      "64/64 [==============================] - 3s 42ms/step - loss: 0.0797 - accuracy: 0.9729 - val_loss: 0.2858 - val_accuracy: 0.9526\n",
      "Epoch 21/30\n",
      "64/64 [==============================] - 3s 43ms/step - loss: 0.0462 - accuracy: 0.9826 - val_loss: 0.2259 - val_accuracy: 0.9493\n",
      "Epoch 22/30\n",
      "64/64 [==============================] - 3s 43ms/step - loss: 0.0541 - accuracy: 0.9791 - val_loss: 0.5502 - val_accuracy: 0.9559\n",
      "Epoch 23/30\n",
      "64/64 [==============================] - 3s 43ms/step - loss: 0.0571 - accuracy: 0.9759 - val_loss: 0.2232 - val_accuracy: 0.9394\n",
      "Epoch 24/30\n",
      "64/64 [==============================] - 3s 43ms/step - loss: 0.0403 - accuracy: 0.9850 - val_loss: 0.1047 - val_accuracy: 0.9604\n",
      "Epoch 25/30\n",
      "64/64 [==============================] - 3s 42ms/step - loss: 0.0707 - accuracy: 0.9744 - val_loss: 0.0926 - val_accuracy: 0.9449\n",
      "Epoch 26/30\n",
      "64/64 [==============================] - 3s 43ms/step - loss: 0.0359 - accuracy: 0.9856 - val_loss: 0.1966 - val_accuracy: 0.9339\n",
      "Epoch 27/30\n",
      "64/64 [==============================] - 3s 43ms/step - loss: 0.0518 - accuracy: 0.9796 - val_loss: 0.0160 - val_accuracy: 0.9736\n",
      "Epoch 28/30\n",
      "64/64 [==============================] - 3s 41ms/step - loss: 0.0318 - accuracy: 0.9884 - val_loss: 0.1587 - val_accuracy: 0.9471\n",
      "Epoch 29/30\n",
      "64/64 [==============================] - 3s 41ms/step - loss: 0.0222 - accuracy: 0.9924 - val_loss: 0.2530 - val_accuracy: 0.9515\n",
      "Epoch 30/30\n",
      "64/64 [==============================] - 3s 41ms/step - loss: 0.0536 - accuracy: 0.9796 - val_loss: 0.0526 - val_accuracy: 0.9626\n"
     ]
    }
   ],
   "source": [
    "history = model.fit_generator(\n",
    "                            train_images,\n",
    "                            steps_per_epoch = 64,\n",
    "                            epochs = 30,\n",
    "                            validation_data = validation_images,\n",
    "                            validation_steps = 15)"
   ]
  },
  {
   "cell_type": "code",
   "execution_count": 9,
   "metadata": {},
   "outputs": [],
   "source": [
    "scores = model.evaluate_generator(test_images)"
   ]
  },
  {
   "cell_type": "code",
   "execution_count": 10,
   "metadata": {},
   "outputs": [
    {
     "name": "stdout",
     "output_type": "stream",
     "text": [
      "0.9692307710647583\n"
     ]
    }
   ],
   "source": [
    "print(scores[1])"
   ]
  },
  {
   "cell_type": "code",
   "execution_count": 12,
   "metadata": {},
   "outputs": [],
   "source": [
    "model.save(\"drowsy.h5\")"
   ]
  },
  {
   "cell_type": "code",
   "execution_count": 24,
   "metadata": {},
   "outputs": [
    {
     "data": {
      "text/plain": [
       "35835232"
      ]
     },
     "execution_count": 24,
     "metadata": {},
     "output_type": "execute_result"
    }
   ],
   "source": [
    "model = tf.keras.models.load_model('drowsy.h5')\n",
    "converter = tf.lite.TFLiteConverter.from_keras_model(model)\n",
    "tflite_model = converter.convert()\n",
    "open(\"drowsy_model.tflite\", \"wb\").write(tflite_model)"
   ]
  }
 ],
 "metadata": {
  "kernelspec": {
   "display_name": "Python 3",
   "language": "python",
   "name": "python3"
  },
  "language_info": {
   "codemirror_mode": {
    "name": "ipython",
    "version": 3
   },
   "file_extension": ".py",
   "mimetype": "text/x-python",
   "name": "python",
   "nbconvert_exporter": "python",
   "pygments_lexer": "ipython3",
   "version": "3.6.10"
  }
 },
 "nbformat": 4,
 "nbformat_minor": 4
}
