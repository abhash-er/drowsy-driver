{
 "cells": [
  {
   "cell_type": "code",
   "execution_count": 1,
   "metadata": {},
   "outputs": [
    {
     "name": "stderr",
     "output_type": "stream",
     "text": [
      "Using TensorFlow backend.\n"
     ]
    }
   ],
   "source": [
    "from keras.models import Sequential\n",
    "from keras.layers import Dense,Conv2D,Dropout,MaxPooling2D,Flatten\n",
    "from keras.preprocessing.image import ImageDataGenerator"
   ]
  },
  {
   "cell_type": "code",
   "execution_count": 2,
   "metadata": {},
   "outputs": [],
   "source": [
    "train_gen = ImageDataGenerator(rescale=1/255.,horizontal_flip = True)\n",
    "validation_gen = ImageDataGenerator(rescale = 1/255.,horizontal_flip = True)\n",
    "test_gen = ImageDataGenerator(rescale = 1/255.,horizontal_flip = True)"
   ]
  },
  {
   "cell_type": "code",
   "execution_count": 3,
   "metadata": {},
   "outputs": [
    {
     "name": "stdout",
     "output_type": "stream",
     "text": [
      "Found 1742 images belonging to 2 classes.\n",
      "Found 486 images belonging to 2 classes.\n",
      "Found 195 images belonging to 2 classes.\n"
     ]
    }
   ],
   "source": [
    "train_images = train_gen.flow_from_directory(\n",
    "                'eyes/training',\n",
    "                target_size = (100,100),\n",
    "                batch_size = 32)\n",
    "\n",
    "validation_images = train_gen.flow_from_directory(\n",
    "                'eyes/validation',\n",
    "                target_size = (100,100),\n",
    "                batch_size = 32)\n",
    "\n",
    "test_images = test_gen.flow_from_directory(\n",
    "                'eyes/testing',\n",
    "                target_size = (100,100),\n",
    "                batch_size = 32)"
   ]
  },
  {
   "cell_type": "code",
   "execution_count": 4,
   "metadata": {},
   "outputs": [
    {
     "name": "stdout",
     "output_type": "stream",
     "text": [
      "{'ClosedFace': 0, 'OpenFace': 1}\n",
      "{'ClosedFace': 0, 'OpenFace': 1}\n",
      "{'ClosedFace': 0, 'OpenFace': 1}\n"
     ]
    }
   ],
   "source": [
    "print(train_images.class_indices)\n",
    "print(test_images.class_indices)\n",
    "print(validation_images.class_indices)"
   ]
  },
  {
   "cell_type": "code",
   "execution_count": 5,
   "metadata": {},
   "outputs": [],
   "source": [
    "model = Sequential()\n",
    "model.add(Conv2D(16,(3,3),input_shape=(100,100,3),activation=\"relu\"))\n",
    "model.add(MaxPooling2D((2,2)))\n",
    "model.add(Conv2D(32,(3,3),activation=\"relu\"))\n",
    "model.add(MaxPooling2D((2,2)))\n",
    "model.add(Dropout(.2))\n",
    "model.add(Conv2D(128,(3,3),activation=\"relu\"))\n",
    "model.add(MaxPooling2D((2,2)))\n",
    "model.add(Conv2D(512,(3,3),activation=\"relu\"))\n",
    "model.add(MaxPooling2D((2,2)))\n",
    "model.add(Flatten())\n",
    "model.add(Dense(1000,activation=\"relu\"))\n",
    "model.add(Dropout(.2))\n",
    "model.add(Dense(128,activation=\"relu\"))\n",
    "model.add(Dropout(.2))\n",
    "model.add(Dense(32,activation=\"relu\"))\n",
    "model.add(Dropout(.2))\n",
    "model.add(Dense(2,activation=\"sigmoid\"))"
   ]
  },
  {
   "cell_type": "code",
   "execution_count": 6,
   "metadata": {},
   "outputs": [
    {
     "name": "stdout",
     "output_type": "stream",
     "text": [
      "Model: \"sequential_1\"\n",
      "_________________________________________________________________\n",
      "Layer (type)                 Output Shape              Param #   \n",
      "=================================================================\n",
      "conv2d_1 (Conv2D)            (None, 98, 98, 16)        448       \n",
      "_________________________________________________________________\n",
      "max_pooling2d_1 (MaxPooling2 (None, 49, 49, 16)        0         \n",
      "_________________________________________________________________\n",
      "conv2d_2 (Conv2D)            (None, 47, 47, 32)        4640      \n",
      "_________________________________________________________________\n",
      "max_pooling2d_2 (MaxPooling2 (None, 23, 23, 32)        0         \n",
      "_________________________________________________________________\n",
      "dropout_1 (Dropout)          (None, 23, 23, 32)        0         \n",
      "_________________________________________________________________\n",
      "conv2d_3 (Conv2D)            (None, 21, 21, 128)       36992     \n",
      "_________________________________________________________________\n",
      "max_pooling2d_3 (MaxPooling2 (None, 10, 10, 128)       0         \n",
      "_________________________________________________________________\n",
      "conv2d_4 (Conv2D)            (None, 8, 8, 512)         590336    \n",
      "_________________________________________________________________\n",
      "max_pooling2d_4 (MaxPooling2 (None, 4, 4, 512)         0         \n",
      "_________________________________________________________________\n",
      "flatten_1 (Flatten)          (None, 8192)              0         \n",
      "_________________________________________________________________\n",
      "dense_1 (Dense)              (None, 1000)              8193000   \n",
      "_________________________________________________________________\n",
      "dropout_2 (Dropout)          (None, 1000)              0         \n",
      "_________________________________________________________________\n",
      "dense_2 (Dense)              (None, 128)               128128    \n",
      "_________________________________________________________________\n",
      "dropout_3 (Dropout)          (None, 128)               0         \n",
      "_________________________________________________________________\n",
      "dense_3 (Dense)              (None, 32)                4128      \n",
      "_________________________________________________________________\n",
      "dropout_4 (Dropout)          (None, 32)                0         \n",
      "_________________________________________________________________\n",
      "dense_4 (Dense)              (None, 2)                 66        \n",
      "=================================================================\n",
      "Total params: 8,957,738\n",
      "Trainable params: 8,957,738\n",
      "Non-trainable params: 0\n",
      "_________________________________________________________________\n"
     ]
    }
   ],
   "source": [
    "model.summary()"
   ]
  },
  {
   "cell_type": "code",
   "execution_count": 7,
   "metadata": {},
   "outputs": [],
   "source": [
    "model.compile(optimizer=\"adam\",loss=\"binary_crossentropy\",metrics=[\"accuracy\"])"
   ]
  },
  {
   "cell_type": "code",
   "execution_count": 8,
   "metadata": {},
   "outputs": [
    {
     "name": "stdout",
     "output_type": "stream",
     "text": [
      "Epoch 1/30\n",
      "64/64 [==============================] - 5s 74ms/step - loss: 0.6845 - accuracy: 0.5574 - val_loss: 0.6626 - val_accuracy: 0.6135\n",
      "Epoch 2/30\n",
      "64/64 [==============================] - 3s 43ms/step - loss: 0.6656 - accuracy: 0.6219 - val_loss: 0.6262 - val_accuracy: 0.6630\n",
      "Epoch 3/30\n",
      "64/64 [==============================] - 3s 42ms/step - loss: 0.6540 - accuracy: 0.6426 - val_loss: 0.6202 - val_accuracy: 0.6564\n",
      "Epoch 4/30\n",
      "64/64 [==============================] - 3s 42ms/step - loss: 0.6184 - accuracy: 0.6697 - val_loss: 0.6058 - val_accuracy: 0.6861\n",
      "Epoch 5/30\n",
      "64/64 [==============================] - 3s 42ms/step - loss: 0.5914 - accuracy: 0.7015 - val_loss: 0.6421 - val_accuracy: 0.6410\n",
      "Epoch 6/30\n",
      "64/64 [==============================] - 3s 42ms/step - loss: 0.5726 - accuracy: 0.7010 - val_loss: 0.5438 - val_accuracy: 0.8106\n",
      "Epoch 7/30\n",
      "64/64 [==============================] - 3s 42ms/step - loss: 0.5033 - accuracy: 0.7599 - val_loss: 0.4636 - val_accuracy: 0.8238\n",
      "Epoch 8/30\n",
      "64/64 [==============================] - 3s 42ms/step - loss: 0.4072 - accuracy: 0.8254 - val_loss: 0.3949 - val_accuracy: 0.8855\n",
      "Epoch 9/30\n",
      "64/64 [==============================] - 3s 42ms/step - loss: 0.3631 - accuracy: 0.8544 - val_loss: 0.1387 - val_accuracy: 0.8987\n",
      "Epoch 10/30\n",
      "64/64 [==============================] - 3s 41ms/step - loss: 0.3224 - accuracy: 0.8698 - val_loss: 0.4513 - val_accuracy: 0.8700\n",
      "Epoch 11/30\n",
      "64/64 [==============================] - 3s 42ms/step - loss: 0.2309 - accuracy: 0.9131 - val_loss: 0.1947 - val_accuracy: 0.9427\n",
      "Epoch 12/30\n",
      "64/64 [==============================] - 3s 41ms/step - loss: 0.1879 - accuracy: 0.9354 - val_loss: 0.0949 - val_accuracy: 0.9141\n",
      "Epoch 13/30\n",
      "64/64 [==============================] - 3s 41ms/step - loss: 0.1404 - accuracy: 0.9438 - val_loss: 0.2300 - val_accuracy: 0.9240\n",
      "Epoch 14/30\n",
      "64/64 [==============================] - 3s 40ms/step - loss: 0.1326 - accuracy: 0.9468 - val_loss: 0.0883 - val_accuracy: 0.9604\n",
      "Epoch 15/30\n",
      "64/64 [==============================] - 3s 40ms/step - loss: 0.1229 - accuracy: 0.9510 - val_loss: 0.1294 - val_accuracy: 0.9593\n",
      "Epoch 16/30\n",
      "64/64 [==============================] - 3s 40ms/step - loss: 0.1099 - accuracy: 0.9556 - val_loss: 0.1160 - val_accuracy: 0.9482\n",
      "Epoch 17/30\n",
      "64/64 [==============================] - 3s 40ms/step - loss: 0.0997 - accuracy: 0.9682 - val_loss: 0.0849 - val_accuracy: 0.9552\n",
      "Epoch 18/30\n",
      "64/64 [==============================] - 3s 42ms/step - loss: 0.1075 - accuracy: 0.9571 - val_loss: 0.0847 - val_accuracy: 0.9604\n",
      "Epoch 19/30\n",
      "64/64 [==============================] - 3s 42ms/step - loss: 0.0727 - accuracy: 0.9702 - val_loss: 0.0077 - val_accuracy: 0.9670\n",
      "Epoch 20/30\n",
      "64/64 [==============================] - 3s 42ms/step - loss: 0.0646 - accuracy: 0.9781 - val_loss: 0.0223 - val_accuracy: 0.9405\n",
      "Epoch 21/30\n",
      "64/64 [==============================] - 3s 42ms/step - loss: 0.0537 - accuracy: 0.9791 - val_loss: 0.0881 - val_accuracy: 0.9427\n",
      "Epoch 22/30\n",
      "64/64 [==============================] - 3s 42ms/step - loss: 0.0707 - accuracy: 0.9702 - val_loss: 0.0359 - val_accuracy: 0.9515\n",
      "Epoch 23/30\n",
      "64/64 [==============================] - 3s 42ms/step - loss: 0.0657 - accuracy: 0.9764 - val_loss: 0.0939 - val_accuracy: 0.9383\n",
      "Epoch 24/30\n",
      "64/64 [==============================] - 3s 42ms/step - loss: 0.0580 - accuracy: 0.9768 - val_loss: 0.0122 - val_accuracy: 0.9670\n",
      "Epoch 25/30\n",
      "64/64 [==============================] - 3s 42ms/step - loss: 0.0541 - accuracy: 0.9818 - val_loss: 0.3547 - val_accuracy: 0.9548\n",
      "Epoch 26/30\n",
      "64/64 [==============================] - 3s 42ms/step - loss: 0.0535 - accuracy: 0.9810 - val_loss: 0.1325 - val_accuracy: 0.9736\n",
      "Epoch 27/30\n",
      "64/64 [==============================] - 3s 41ms/step - loss: 0.0342 - accuracy: 0.9878 - val_loss: 0.0080 - val_accuracy: 0.9559\n",
      "Epoch 28/30\n",
      "64/64 [==============================] - 3s 40ms/step - loss: 0.0397 - accuracy: 0.9867 - val_loss: 0.2715 - val_accuracy: 0.9626\n",
      "Epoch 29/30\n",
      "64/64 [==============================] - 3s 40ms/step - loss: 0.0490 - accuracy: 0.9815 - val_loss: 0.3519 - val_accuracy: 0.9515\n",
      "Epoch 30/30\n",
      "64/64 [==============================] - 3s 40ms/step - loss: 0.0351 - accuracy: 0.9860 - val_loss: 0.2453 - val_accuracy: 0.9471\n"
     ]
    }
   ],
   "source": [
    "history = model.fit_generator(\n",
    "                            train_images,\n",
    "                            steps_per_epoch = 64,\n",
    "                            epochs = 30,\n",
    "                            validation_data = validation_images,\n",
    "                            validation_steps = 15)"
   ]
  },
  {
   "cell_type": "code",
   "execution_count": 9,
   "metadata": {},
   "outputs": [],
   "source": [
    "scores = model.evaluate_generator(test_images)"
   ]
  },
  {
   "cell_type": "code",
   "execution_count": 19,
   "metadata": {},
   "outputs": [
    {
     "name": "stdout",
     "output_type": "stream",
     "text": [
      "0.9769230484962463\n"
     ]
    }
   ],
   "source": [
    "print(scores[1])"
   ]
  },
  {
   "cell_type": "code",
   "execution_count": 20,
   "metadata": {},
   "outputs": [
    {
     "name": "stdout",
     "output_type": "stream",
     "text": [
      "1.0\n"
     ]
    }
   ],
   "source": [
    "\n",
    "import numpy as np\n",
    "from keras.preprocessing import image\n",
    "\n",
    "def testImageUpload(path):\n",
    "    img = image.load_img(path,target_size = (100,100))\n",
    "    x = image.img_to_array(img)\n",
    "    x = np.expand_dims(x,axis = 0)\n",
    "    images = np.vstack([x])\n",
    "    classes = model.predict(images, batch_size = 10)\n",
    "    print(classes[0][0])"
   ]
  },
  {
   "cell_type": "code",
   "execution_count": null,
   "metadata": {},
   "outputs": [],
   "source": []
  }
 ],
 "metadata": {
  "kernelspec": {
   "display_name": "Python 3",
   "language": "python",
   "name": "python3"
  },
  "language_info": {
   "codemirror_mode": {
    "name": "ipython",
    "version": 3
   },
   "file_extension": ".py",
   "mimetype": "text/x-python",
   "name": "python",
   "nbconvert_exporter": "python",
   "pygments_lexer": "ipython3",
   "version": "3.6.10"
  }
 },
 "nbformat": 4,
 "nbformat_minor": 4
}
